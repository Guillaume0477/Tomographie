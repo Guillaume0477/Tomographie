{
 "cells": [
  {
   "cell_type": "markdown",
   "metadata": {},
   "source": [
    "# Objectifs\n",
    "Implémenter la rétroprojection filtrée 2D en géométrie parallèle. L'algorithme consiste à rétroprojeter:\n",
    "\\begin{equation}\n",
    "f(\\underline{x})=\\int_0^\\pi p^*_\\phi(\\underline{x}\\cdot\\underline{\\alpha}_\\phi)\\mathrm{d}\\phi\n",
    "\\end{equation}\n",
    "les projections filtrées avec un filtre rampe:\n",
    "\\begin{equation}\n",
    "p^*_\\phi(s) = \\int_{-\\infty}^\\infty \\lvert \\sigma \\rvert \\hat p_\\phi(\\sigma)e^{2\\pi i\\sigma s}\\mathrm{d}\\sigma\n",
    "\\end{equation}\n",
    "avec $\\underline\\alpha_\\phi=(\\cos \\phi,\\sin\\phi)$ l'orientation du détecteur et $\\hat p_\\phi$ la transformée de Fourier 1D de $p_\\phi$.\n",
    "\n",
    "Le dessin ci-dessous ilustre les notations utilisées dans ce notebook:\n",
    "\n",
    "![parallel_fig.png](parallel_fig.png)\n",
    "\n",
    "Dans un deuxième temps nous nous intéresserons à un algorithme de reconstruction itératif: Maximum-Likelihood Expectation-Maximization (MLEM). \n",
    "\n",
    "Enfin, il s’agira de comparer les temps de calcul et la qualité des différentes reconstructions de chacune des deux méthodes.\n",
    "\n",
    "# Données\n",
    "Nous allons travailler sur une coupe du fantôme de Shepp Logan 3D.\n",
    "Le code utilisé pour produire l'image de `réference` est donné ci-dessous:"
   ]
  },
  {
   "cell_type": "code",
   "execution_count": 1,
   "metadata": {},
   "outputs": [
    {
     "data": {
      "image/png": "[encoded data removed]",
      "text/plain": [
       "<Figure size 576x576 with 1 Axes>"
      ]
     },
     "metadata": {
      "needs_background": "light"
     },
     "output_type": "display_data"
    }
   ],
   "source": [
    "import numpy as np\n",
    "import itk\n",
    "from itk import RTK as rtk\n",
    "\n",
    "# Define the image type, we will use 3D float images in these hands-on sessions\n",
    "ImageType = itk.Image[itk.F,3]\n",
    "\n",
    "# Create an image filled with 0 in which we will draw the phantom\n",
    "srcdraw = rtk.ConstantImageSource[ImageType].New()\n",
    "srcdraw.SetConstant(0.) # Note that this is useless because 0 is the default\n",
    "srcdraw.SetSize([256,1,256])\n",
    "srcdraw.SetSpacing([1,1,1])\n",
    "srcdraw.SetOrigin([-127.5,0.,-127.5])\n",
    "\n",
    "# Draw the Shepp Logan in it\n",
    "sldraw = rtk.DrawSheppLoganFilter[ImageType, ImageType].New()\n",
    "sldraw.SetInput(srcdraw.GetOutput())\n",
    "sldraw.SetPhantomScale(128)\n",
    "sldraw.SetOriginOffset([0.,0.25,0.])\n",
    "sldraw.InPlaceOff()\n",
    "sldraw.Update()\n",
    "itk.imwrite(sldraw.GetOutput(),'ref.mha')\n",
    "reference = itk.GetArrayFromImage(sldraw.GetOutput()).squeeze()\n",
    "\n",
    "%matplotlib inline\n",
    "import matplotlib.pyplot as plt\n",
    "\n",
    "plt.figure(figsize=(8,8))\n",
    "x1=np.linspace(srcdraw.GetOrigin()[0],\n",
    "               srcdraw.GetOrigin()[0]+(srcdraw.GetSize()[0]-1)*srcdraw.GetSpacing()[0],\n",
    "               num=reference.shape[1])\n",
    "x2=np.linspace(srcdraw.GetOrigin()[2],\n",
    "               srcdraw.GetOrigin()[2]+(srcdraw.GetSize()[2]-1)*srcdraw.GetSpacing()[2],\n",
    "               num=reference.shape[0])\n",
    "plt.imshow(reference, clim=[1,1.05], cmap=plt.cm.gray, extent=(x1[0],x1[-1],x2[0],x2[-1]), origin='lower')\n",
    "plt.xlabel('x1 (mm)')\n",
    "plt.ylabel('x2 (mm)')\n",
    "plt.title('Reference')\n",
    "plt.show();"
   ]
  },
  {
   "cell_type": "markdown",
   "metadata": {},
   "source": [
    "et la fonction permettant de calculer les projections est la suivante:"
   ]
  },
  {
   "cell_type": "code",
   "execution_count": 2,
   "metadata": {},
   "outputs": [],
   "source": [
    "def RadonTransformSheppLogan(phideg):\n",
    "    geometry = rtk.ThreeDCircularProjectionGeometry.New()\n",
    "    for angle in phideg:\n",
    "        # The convention in the courses is opposite of that of RTK for the rotation angle.\n",
    "        # We simply use the courses convention and convert the angle to RTK's convention\n",
    "        geometry.AddProjection(1000,0,-angle)\n",
    "\n",
    "    # Create an image filled with 0 in which we will draw the phantom\n",
    "    srcproj = rtk.ConstantImageSource[ImageType].New()\n",
    "    srcproj.SetSize([reference.shape[1],1,len(phideg)])\n",
    "    srcproj.SetSpacing(srcdraw.GetSpacing())\n",
    "    srcproj.SetOrigin([srcdraw.GetOrigin()[0],0.,0.])\n",
    "\n",
    "    # Project the Shepp Logan in it\n",
    "    slproj = rtk.SheppLoganPhantomFilter[ImageType, ImageType].New()\n",
    "    slproj.SetInput(srcproj.GetOutput())\n",
    "    slproj.SetGeometry(geometry)\n",
    "    slproj.SetPhantomScale(128)\n",
    "    slproj.SetOriginOffset([0.,0.25,0.])\n",
    "    slproj.Update()\n",
    "    sinogram = itk.GetArrayFromImage(slproj.GetOutput()).squeeze()\n",
    "    s=np.linspace(srcproj.GetOrigin()[0],\n",
    "              srcproj.GetOrigin()[0]+(srcproj.GetSize()[0]-1)*srcproj.GetSpacing()[0],\n",
    "              num=srcproj.GetSize()[0])\n",
    "    return sinogram, s"
   ]
  },
  {
   "cell_type": "markdown",
   "metadata": {},
   "source": [
    "**Exercice:** Tracer le sinogramme en précisant $N_\\phi$, le nombre d'angles choisi dans l'intervalle $[0°,180°[$"
   ]
  },
  {
   "cell_type": "code",
   "execution_count": null,
   "metadata": {},
   "outputs": [],
   "source": []
  },
  {
   "cell_type": "markdown",
   "metadata": {},
   "source": [
    "# Théorème coupe-projection"
   ]
  },
  {
   "cell_type": "markdown",
   "metadata": {},
   "source": [
    "**Exercice** Vérifier le théorème coupe-projection pour la projection $p_0$:\n",
    "\\begin{equation}\n",
    "\\hat{p}_0(\\sigma)=\\hat{f}(0,\\sigma)\n",
    "\\end{equation}\n",
    "Vous pouvez utiliser [numpy.fft.rfft](https://docs.scipy.org/doc/numpy/reference/generated/numpy.fft.rfft.html) pour la transformée de Fourier 1D, [numpy.fft.rfft2](https://docs.scipy.org/doc/numpy/reference/generated/numpy.fft.rfft2.html) pour la transformée de Fourier 2D et [numpy.absolute](https://docs.scipy.org/doc/numpy/reference/generated/numpy.absolute.html) pour calculer le module d'un nombre complexe."
   ]
  },
  {
   "cell_type": "code",
   "execution_count": null,
   "metadata": {},
   "outputs": [],
   "source": []
  },
  {
   "cell_type": "markdown",
   "metadata": {},
   "source": [
    "# Rétroprojection\n",
    "On cherche maintenant à inverser la projection, i.e. à passer du domaine de Radon au domaine image.\n",
    "\n",
    "**Exercice:** Implémenter dans un premier temps la rétroprojection simple de la transformée de Radon:\n",
    "\\begin{equation}\n",
    "f(\\underline{x})=\\int_0^\\pi p_\\phi(\\underline{x}\\cdot\\underline{\\alpha}_\\phi)\\mathrm{d}\\phi = \\int_0^\\pi p_\\phi(x_1 cos(\\phi)+x_2 sin(\\phi))\\mathrm{d}\\phi\n",
    "\\end{equation}\n",
    "qui après discrétisation donne:\n",
    "\\begin{equation}\n",
    "f(x_1, x_2)=\\Delta \\phi \\sum_{k=0}^{N_\\phi-1} p_{\\phi_k}(x_1 cos(\\phi_k) + x_2 sin(\\phi_k))\n",
    "\\end{equation}\n",
    "\n",
    "Pour l'algorithme de la rétroprojection filtrée, la meilleure solution pour implémenter l'opérateur de rétroprojection est d'utiliser un *pixel-based* rétroprojecteur:\n",
    "- Calculer les coordonnées 2D de chaque pixel de la fonction discretisée $f$. \n",
    "- Regarder où se projette chaque pixel sur chaque projection 1D $p_\\phi$.\n",
    "- Faire une interpolation linéraire des projections à ces posisitions.\n",
    "- Ajouter la valeur interpolée au pixel.\n",
    "\n",
    "![pixel-based](pixel_based_backprojection.png)\n",
    "\n",
    "Vous pouvez utiliser la fonction [numpy.meshgrid](https://docs.scipy.org/doc/numpy/reference/generated/numpy.meshgrid.html) pour obtenir une grille de coordonnées à partir des coordonnées des vecteurs $x_1$ et $x_2$ (voir leur définition dans la section Donnée). Utilisez l'option`indexing='xy'` pour être cohérent avec la `réference`. Vous pouvez utiliser [numpy.interp](https://docs.scipy.org/doc/numpy/reference/generated/numpy.interp.html) pour l'interpolation linéaire."
   ]
  },
  {
   "cell_type": "code",
   "execution_count": null,
   "metadata": {},
   "outputs": [],
   "source": []
  },
  {
   "cell_type": "markdown",
   "metadata": {},
   "source": [
    "Le code suivant réalise la rétroprojection simple en utilisant RTK."
   ]
  },
  {
   "cell_type": "code",
   "execution_count": 3,
   "metadata": {},
   "outputs": [],
   "source": [
    "def BackprojectionRTK(phideg):\n",
    "    geometry = rtk.ThreeDCircularProjectionGeometry.New()\n",
    "    for angle in phideg:\n",
    "        # The convention in the courses is opposite of that of RTK for the rotation angle.\n",
    "        # We simply use the courses convention and convert the angle to RTK's convention\n",
    "        geometry.AddProjection(1000,0,-angle)\n",
    "        \n",
    "    # Recreate projections with 3 slices to accomodate bilinear interpolation\n",
    "    srcproj = rtk.ConstantImageSource[ImageType].New()\n",
    "    srcproj.SetSize([reference.shape[1],3, len(phideg)])\n",
    "    srcproj.SetOrigin([srcdraw.GetOrigin()[0],-1.*srcdraw.GetSpacing()[1],0])\n",
    "    srcproj.SetSpacing(srcdraw.GetSpacing())\n",
    "    slproj = rtk.SheppLoganPhantomFilter[ImageType, ImageType].New()\n",
    "    slproj.SetInput(srcproj.GetOutput())\n",
    "    slproj.SetGeometry(geometry)\n",
    "    slproj.SetPhantomScale(128)\n",
    "    slproj.SetOriginOffset([0.,0.25,0.])\n",
    "    slproj.Update()\n",
    "\n",
    "    # Backproject\n",
    "    rtkbp = rtk.BackProjectionImageFilter[ImageType, ImageType].New()\n",
    "    rtkbp.SetInput(0,srcdraw.GetOutput())\n",
    "    rtkbp.SetInput(1,slproj.GetOutput())\n",
    "    rtkbp.SetGeometry(geometry)\n",
    "    rtkbp.Update()\n",
    "    rtkbp = itk.GetArrayFromImage(rtkbp).squeeze()\n",
    "    rtkbp *= np.abs(phi[1]-phi[0])\n",
    "    \n",
    "    return rtkbp"
   ]
  },
  {
   "cell_type": "markdown",
   "metadata": {},
   "source": [
    "**Exercice:** Valider votre rétroprojection en la comparant à celle de RTK. La méthode de rétroprojection simple est-elle satisfaisante ? Expliquer pourquoi."
   ]
  },
  {
   "cell_type": "code",
   "execution_count": null,
   "metadata": {},
   "outputs": [],
   "source": []
  },
  {
   "cell_type": "markdown",
   "metadata": {},
   "source": [
    "# Filtre Rampe\n",
    "La version analytique du filtre rampe $\\hat h(\\sigma)=|\\sigma|$ n'est pas utilisable dans notre cas du fait que les signaux numériques possèdent un spectre limité. Le filtre s'exprime donc par: \n",
    "\\begin{equation}\n",
    "\\hat h_\\mathrm{BL}(\\sigma)=\\left\\{\n",
    "\\begin{array}{ll}%\n",
    "\\lvert \\sigma \\rvert &\\mathrm{si}\\ \\lvert \\sigma \\rvert <\\Sigma\\\\\n",
    "0 & \\mathrm{sinon,}\\\\\n",
    "\\end{array}\n",
    "\\right.\n",
    "\\end{equation}\n",
    "où $\\Sigma=1/2\\Delta_s$ est la frèquence maximum respectant la condition de Nyquist-Shannon pour un signal échantillonée à $\\Delta_s$. Il existe plusieurs implémentations du filtre rampe verifiant cette condition, une des plus communes est: \n",
    "\\begin{equation}\n",
    "h_\\mathrm{BL}(s)=\\dfrac{1}{2\\Delta_s^2}\\dfrac{\\sin 2\\pi s/2\\Delta_s}{2\\pi s/2\\Delta_s}-\\dfrac{1}{4\\Delta_s^2}\\left(\\dfrac{\\sin\\pi s/2\\Delta_s}{\\pi s/2\\Delta_s}\\right)^2\n",
    "\\end{equation}\n",
    "qui après discrétisation donne:\n",
    "\\begin{equation}\n",
    "h_\\mathrm{BL}(n\\Delta_s)=\n",
    "\\begin{cases}\n",
    "\\dfrac{1}{4\\Delta_s^2} &\\mathrm{si}\\ n=0,\\\\\n",
    "0 &\\mathrm{si}\\ n\\ \\mathrm{est\\ pair},\\\\\n",
    "-\\dfrac{1}{\\left(n\\pi \\Delta_s\\right)^2} &\\mathrm{si}\\ n\\ \\mathrm{est\\ impair}.\\\\\n",
    "\\end{cases}\n",
    "\\end{equation}\n",
    "\n",
    "Le code suivant retourne ce filtre à la fois dans le domaine spatial et fréquentiel:"
   ]
  },
  {
   "cell_type": "code",
   "execution_count": 4,
   "metadata": {},
   "outputs": [],
   "source": [
    "def RampFilterBL(s, zeropad=2):\n",
    "    rampbl = np.zeros(s.size*zeropad)\n",
    "    ds=s[1]-s[0]\n",
    "    rampbl[s.size*zeropad//2-1]=1/(4*ds**2)\n",
    "    idxodd = np.concatenate((np.flip(-1*np.arange(1,rampbl.size//2,2)),np.arange(1,rampbl.size//2,2)))\n",
    "    rampbl[0::2]=-1/(idxodd*np.pi*ds)**2\n",
    "    rampbl*=ds\n",
    "    rampbl_fft = np.absolute(np.fft.rfft(rampbl))\n",
    "    \n",
    "    return rampbl, rampbl_fft"
   ]
  },
  {
   "cell_type": "markdown",
   "metadata": {},
   "source": [
    "**Exercice:** En utlisant la fonction précédente, implémentez la rétroprojection filtrée. Vous pouvez utiliser la fonction [numpy.fft.irfft](https://docs.scipy.org/doc/numpy/reference/generated/numpy.fft.irfft.html) pour la transformée de Fourier 1D inverse, et [numpy.fft.rfftfreq](https://docs.scipy.org/doc/numpy/reference/generated/numpy.fft.rfftfreq.html) pour récupérer l'échantillonage des fréquences dans le domaine de Fourier.\n",
    "Comparer l'image reconstruite avec la référence (vous pourrez notamment afficher un profil). Expliquer l'intérêt et l'effet du filtre rampe lors de la rétroprojection."
   ]
  },
  {
   "cell_type": "code",
   "execution_count": null,
   "metadata": {},
   "outputs": [],
   "source": []
  },
  {
   "cell_type": "markdown",
   "metadata": {},
   "source": [
    "**Exercice:** Comparer les qualités d'images reconstruites, les PSNR obtenus et le temps de reconstruction en fonction de $N_\\phi$. Pour mesurer le temps de calcul vous pouvez utiliser la fonction [time.time()](https://docs.python.org/3/library/time.html).\n",
    "\n",
    "Rappel: $\\mathrm{PSNR}= 10 \\log_{10}(\\frac{\\mathrm{MAX}^2_I}{\\mathrm{MSE}})$\n",
    "\n",
    "N'oubliez pas de normalier vos images avant de quantifier leur différence."
   ]
  },
  {
   "cell_type": "code",
   "execution_count": null,
   "metadata": {},
   "outputs": [],
   "source": []
  },
  {
   "cell_type": "markdown",
   "metadata": {},
   "source": [
    "**Exercice:** Rajouter un bruit additif Gaussien de moyenne nulle au sinogramme de départ en utilisant la fonction [np.random.normal](https://numpy.org/doc/stable/reference/random/generated/numpy.random.normal.html). Pour un $N_\\phi$ fixé, tracez l’évolution du PSNR en fonction de la variance du bruit."
   ]
  },
  {
   "cell_type": "code",
   "execution_count": null,
   "metadata": {},
   "outputs": [],
   "source": []
  },
  {
   "cell_type": "markdown",
   "metadata": {},
   "source": [
    "# Bonus (si vous avez le temps)\n",
    "Nous avons vu dans le cours que le filtre rampe favorise l'amplification des hautes fréquences et peut introduire du bruit dans l'image reconstruite. Une solution est d'appliquer un filtre passe-bas appelé fenêtre d'apodisation pour atténuer les hautes-fréquences. Le filtre de Hann est couramment utilisé à cet effet:\n",
    "\\begin{equation}\n",
    "\\hat w(\\sigma)=\\left\\{\n",
    "\\begin{array}{ll}%\n",
    "0.5*(1+\\cos(\\frac{\\pi \\sigma}{\\sigma_c})) &\\mathrm{si}\\ \\sigma <\\sigma_c\\\\\n",
    "0 & \\mathrm{sinon}\\\\\n",
    "\\end{array}\n",
    "\\right.\n",
    "\\end{equation}\n",
    "\n",
    "**Exercice:** Ajouter le filtre de Hann à votre rétroprojection filtrée et comparer les résultats obtenue pour différentes fréquences de coupure."
   ]
  },
  {
   "cell_type": "code",
   "execution_count": null,
   "metadata": {},
   "outputs": [],
   "source": []
  },
  {
   "cell_type": "markdown",
   "metadata": {},
   "source": [
    "# MLEM\n",
    "Nous supposons que l'émission des photons suit une distribution de Poisson, alors, si $x$ représente le vecteur image $x = (x_i,..,x_n)^t$ et $y = (y_1,..,y_m)^t$ les projections mesurées, la fonction de vraisemblance, qui est la probabilité d'obtenir $y$ si l'image est $x$, est:\n",
    "\t\t\\begin{equation}\n",
    "\t\t\tP_L(y/x) = \\prod_{i=1}^m \\frac{\\sum_{j=1}^n (a_{ij}x_j)^{y_i}}{y_i!} \\exp(-\\sum_{j=1}^n a_{ij}x_j)\n",
    "\t\t\\end{equation}\n",
    "où $a_{ij}$ représente la probabilité qu'un photon émis par le voxel j soit détecté par le pixel i et $\\sum_{i=1}^m a_{ij} = 1$. \n",
    "\n",
    "Afin d'estimer x à partir de y, une approche possible est de maximiser $P_L(y/x)$ ou de façon équivalente:\n",
    "\t\t\\begin{equation}\n",
    "\t\t\t\\max_{x\\ge0}L(x)=\\sum_{i=1}^m (y_i \\ln(\\sum_{j=1}^n a_{ij}x_j) - \\sum_{j=1}^n a_{ij}x_j)\n",
    "\t\t\\end{equation} \n",
    "\n",
    "L'algorithme MLEM cherche une solution qui maximise cette fonction de vraisemblance entre les projections mesurées et les projections de l'image. L'équation de mise à jour est:\n",
    "\t\t\\begin{equation}\n",
    "\t\t\tx^{next}_{j} = \\frac{x^{current}_{j}}{{\\sum_{i} a_{ij}}} {\\sum_{i} a_{ij}} \\frac{{y_{i}}}{{{\\sum_{j} a_{ij}}}x^{current}_{j}}\n",
    "\t\t\\end{equation}\n",
    "où $\\sum_{i} a_{ij}$ représente l'opérateur de rétroprojection et $\\sum_{j} a_{ij}$ l'opérateur de projection.\n",
    "\n",
    "Une implémentation d'un opérateur de projection est donnée par la fonction suivante:"
   ]
  },
  {
   "cell_type": "code",
   "execution_count": 5,
   "metadata": {},
   "outputs": [],
   "source": [
    "def ForwardProjectionRTK(volume, phideg):\n",
    "    geometry = rtk.ThreeDCircularProjectionGeometry.New()\n",
    "    for angle in phideg:\n",
    "        # The convention in the courses is opposite of that of RTK for the rotation angle.\n",
    "        # We simply use the courses convention and convert the angle to RTK's convention\n",
    "        geometry.AddProjection(1000,0,-angle)\n",
    "    \n",
    "    # Create an image filled with 0 in which we write the projections\n",
    "    srcproj = rtk.ConstantImageSource[ImageType].New()\n",
    "    srcproj.SetSize([reference.shape[1],1,len(phideg)])\n",
    "    srcproj.SetSpacing(srcdraw.GetSpacing())\n",
    "    srcproj.SetOrigin([srcdraw.GetOrigin()[0],0,0.])\n",
    "    srcproj.Update()\n",
    "    \n",
    "    volume = volume[:, np.newaxis, :]\n",
    "    volume = np.append(volume, np.zeros((volume.shape[0],2,volume.shape[2])), axis=1)\n",
    "    itkVolume = itk.GetImageFromArray(volume.astype(np.float32))\n",
    "    itkVolume.SetSpacing([1,1,1])\n",
    "    itkVolume.SetOrigin([-127.5,0.,-127.5])\n",
    "\n",
    "    jfp = rtk.JosephForwardProjectionImageFilter[ImageType, ImageType].New()\n",
    "    jfp.SetInput(0, srcproj.GetOutput())\n",
    "    jfp.SetInput(1, itkVolume)\n",
    "    jfp.SetGeometry(geometry)\n",
    "    jfp.Update()\n",
    "    jfp = itk.GetArrayFromImage(jfp.GetOutput()).squeeze()\n",
    "    \n",
    "    return jfp  "
   ]
  },
  {
   "cell_type": "markdown",
   "metadata": {},
   "source": [
    "**Exercice:** En utilisant le projecteur implémenté ci-dessus et votre rétroprojecteur, créer une fonction réalisant la reconstruction par la méthode MLEM.\n",
    "\n",
    "Dans un premier temps, le nombre d'itération sera fixé."
   ]
  },
  {
   "cell_type": "code",
   "execution_count": null,
   "metadata": {},
   "outputs": [],
   "source": []
  },
  {
   "cell_type": "markdown",
   "metadata": {},
   "source": [
    "**Exercice:** Vérifier que l'algorithme MLEM maximise bien la fonction de coût en traçant sont évolution en fonction du nombre d'itérations. Tracer aussi l'évolution de l'érreur quadratique moyenne pour vérifier que le volume reconstruit se rapproche bien de la référence.\n",
    "\n",
    "En déduire un critère de convergence de l'algorithme plus pertinent qu'un nombre fixé d'itérations."
   ]
  },
  {
   "cell_type": "code",
   "execution_count": null,
   "metadata": {},
   "outputs": [],
   "source": []
  },
  {
   "cell_type": "markdown",
   "metadata": {},
   "source": [
    "# Bilan\n",
    "**Exercice:** En fixant les mêmes paramètres (bruit, taille de l’image, nombre de projections) comparer les reconstructions obtenues (PSNR, temps de calcul, perception visuelle) par les deux méthodes implémentées."
   ]
  },
  {
   "cell_type": "code",
   "execution_count": null,
   "metadata": {},
   "outputs": [],
   "source": []
  }
 ],
 "metadata": {
  "kernelspec": {
   "display_name": "Python 3",
   "language": "python",
   "name": "python3"
  },
  "language_info": {
   "codemirror_mode": {
    "name": "ipython",
    "version": 3
   },
   "file_extension": ".py",
   "mimetype": "text/x-python",
   "name": "python",
   "nbconvert_exporter": "python",
   "pygments_lexer": "ipython3",
   "version": "3.6.9"
  }
 },
 "nbformat": 4,
 "nbformat_minor": 4
}
